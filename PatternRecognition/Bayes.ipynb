{
 "cells": [
  {
   "cell_type": "markdown",
   "metadata": {},
   "source": [
    "# 朴素贝叶斯"
   ]
  },
  {
   "cell_type": "markdown",
   "metadata": {},
   "source": [
    "[慕课课程](https://www.icourse163.org/learn/WHUT-1205885803?tid=1468973450#/learn/content?type=detail&id=1251679198&cid=1281257391)"
   ]
  },
  {
   "cell_type": "markdown",
   "metadata": {},
   "source": [
    "![](https://picgo-1257938625.cos.ap-nanjing.myqcloud.com//picgo/%E5%A4%9A%E5%88%86%E7%B1%BB%E7%9A%84%E6%9C%B4%E7%B4%A0%E8%B4%9D%E5%8F%B6%E6%96%AF.png)"
   ]
  },
  {
   "cell_type": "markdown",
   "metadata": {},
   "source": [
    "![](https://picgo-1257938625.cos.ap-nanjing.myqcloud.com//picgo/%E6%A8%A1%E5%BC%8F%E8%AF%86%E5%88%AB-4-%E5%A4%9A%E7%BB%B4%E6%AD%A3%E6%80%81%E5%88%86%E5%B8%83%E7%9A%84%E7%89%B9%E5%BE%81%E5%90%91%E9%87%8F.png)"
   ]
  },
  {
   "cell_type": "markdown",
   "metadata": {},
   "source": [
    "## 基于最小错误率的Bayes分类器"
   ]
  },
  {
   "cell_type": "markdown",
   "metadata": {},
   "source": [
    "### numpy实现naive bayes"
   ]
  },
  {
   "cell_type": "markdown",
   "metadata": {},
   "source": [
    "● 已知三个类别的样本分别为：\n",
    "\n",
    "● w1:[0,0],[2,1],[1,0]\n",
    "\n",
    "● w2:[-1,1],[-2,0],[-2,-1]\n",
    "\n",
    "● ω3：[0，-2]，[0，-1]，[1，-2]\n",
    "\n",
    "● 画出三类的分界线，以及判断样本[-2,2]属于哪一类。"
   ]
  },
  {
   "cell_type": "code",
   "execution_count": 4,
   "metadata": {},
   "outputs": [
    {
     "name": "stdout",
     "output_type": "stream",
     "text": [
      "训练样本的特征：[[ 0  0]\n",
      " [ 2  1]\n",
      " [ 1  0]\n",
      " [-1  1]\n",
      " [-2  0]\n",
      " [-2 -1]\n",
      " [ 0 -2]\n",
      " [ 0 -1]\n",
      " [ 1 -2]] \n",
      " 训练样本的标签：[1 1 1 2 2 2 3 3 3]\n"
     ]
    }
   ],
   "source": [
    "import numpy as np\n",
    "import matplotlib.pyplot as plt\n",
    "import matplotlib as mpl\n",
    "\n",
    "#构建数据集\n",
    "\n",
    "x1=np.array([[0,0],[2,1],[1,0]])\n",
    "x2 = np.array([[-1,1],[-2,0],[-2,-1]])\n",
    "x3 = np.array([[0,-2],[0,-1],[1,-2]])\n",
    "\n",
    "y1 = np.array([1]*len(x1))\n",
    "y2 = np.array([2]*len(x2))\n",
    "y3 = np.array([3]*len(x3))\n",
    "\n",
    "# 将数据放入统一的训练集中\n",
    "\n",
    "X = np.concatenate((x1,x2,x3),axis=0)\n",
    "Y = np.concatenate((y1,y2,y3), axis=0)\n",
    "print('训练样本的特征：{} \\n 训练样本的标签：{}'.format(X,Y))\n"
   ]
  },
  {
   "cell_type": "markdown",
   "metadata": {},
   "source": [
    "$$P(\\omega_i|x)=\\frac{P(x|\\omega_i)P(\\omega_i)}{P(x)}$$\n",
    "\n",
    "$$p(x|\\mu, \\sigma)=\\frac{1}{\\sigma \\sqrt{2\\pi}}e^{-\\frac{(x-\\mu)^2}{2\\sigma ^2}}$$"
   ]
  },
  {
   "cell_type": "code",
   "execution_count": 18,
   "metadata": {},
   "outputs": [],
   "source": [
    "# 训练\n",
    "\n",
    "# 参数设定\n",
    "eps = 1e-6\n",
    "labels = np.unique(Y)   # [1 2 3]   所有标签的类别\n",
    "K = len(labels) # 3 标签的数量\n",
    "N, M = X.shape  # N=9, 样本维度M=2\n",
    "\n",
    "# 高斯分布的参数初始化\n",
    "parameters = {\n",
    "    'mean': np.zeros((K, M)),   # 均值  dim=[2,3]\n",
    "    'sigma': np.zeros((K,M)),   # 方差\n",
    "    'prior': np.zeros((K,)),    # 先验概率\n",
    "}\n",
    "\n",
    "# 计算每个类别的均值 方差 先验概率\n",
    "\n",
    "for i, c in enumerate(labels):  \n",
    "    # c:1, 2, 3; Y:[1,1,1,2,2,2,3,3,3],通过 Y==c 取得数据集中的X_1, X_2, X_3  \n",
    "\n",
    "    X_c = X[Y == c, :]  \n",
    "    # i: 0, 1, 2\n",
    "    parameters['mean'][i, :] = np.mean(X_c, axis=0)\n",
    "    # +eps 防止方差为0\n",
    "    parameters['sigma'][i, :] = np.var(X_c, axis=0) + eps \n",
    "    parameters['prior'][i] = X_c.shape[0] / N"
   ]
  },
  {
   "cell_type": "code",
   "execution_count": 19,
   "metadata": {},
   "outputs": [
    {
     "name": "stdout",
     "output_type": "stream",
     "text": [
      "样本属于第[2]类, 对数概率为： [[ -5.23171548  -2.9817166  -11.68237033]]\n"
     ]
    }
   ],
   "source": [
    "# 预测\n",
    "\n",
    "def predict(x, labels):\n",
    "    K = len(labels)  # 3\n",
    "    log_posterior = np.zeros((x.shape[0], K)) # 缓存后验概率\n",
    "    #  每个类别的后验概率\n",
    "    for i in range(K):\n",
    "        mu = parameters['mean'][i]\n",
    "        prior = parameters['prior'][i]\n",
    "        sigsq = parameters['sigma'][i]\n",
    "\n",
    "        # 代入对数化的判别公式计算\n",
    "\n",
    "        # log likelyhood = log X / N(mu, sigsq)\n",
    "\n",
    "        log_likelihood = -0.5 * np.sum(np.log(2 * np.pi * sigsq)) \n",
    "        log_likelihood -= 0.5 * np.sum(((x - mu) **2) / sigsq, axis=1)\n",
    "        # g_i(x)\n",
    "        log_posterior[:, i] = log_likelihood + np.log(prior)\n",
    "    # 找出后验概率中最大概率对应的索引(类别)\n",
    "    pred = labels[log_posterior.argmax(axis=1)]\n",
    "    return pred, log_posterior\n",
    "\n",
    "p = np.array([[-1, 0], ])\n",
    "pred, log_posterior = predict(p, labels)\n",
    "print(f'样本属于第{pred}类,','对数概率为：',log_posterior)"
   ]
  },
  {
   "cell_type": "markdown",
   "metadata": {},
   "source": [
    "### sklearn 实现朴素naive bayes"
   ]
  },
  {
   "cell_type": "code",
   "execution_count": 20,
   "metadata": {},
   "outputs": [],
   "source": [
    "import numpy as np\n",
    "import matplotlib.pyplot as plt\n",
    "\n",
    "# import datasets, classifier and performance metrics\n",
    "from sklearn import datasets, metrics\n",
    "from sklearn.naive_bayes import GaussianNB"
   ]
  },
  {
   "cell_type": "markdown",
   "metadata": {},
   "source": [
    "![](https://picgo-1257938625.cos.ap-nanjing.myqcloud.com//picgo/20221117111626.png)"
   ]
  },
  {
   "cell_type": "code",
   "execution_count": 22,
   "metadata": {},
   "outputs": [
    {
     "name": "stdout",
     "output_type": "stream",
     "text": [
      "shape of data:(1797, 64)\n"
     ]
    }
   ],
   "source": [
    "# The digits dataset\n",
    "\n",
    "digits = datasets.load_digits()\n",
    "images_and_labels = list(zip(digits.images, digits.target))\n",
    "\n",
    "# flatten the image\n",
    "# turn the data in a (samples, feature) matrix:\n",
    "n_samples = len(digits.images)\n",
    "data = digits.images.reshape((n_samples, -1))\n",
    "\n",
    "print('shape of data:{0}'.format(data.shape))\n"
   ]
  }
 ],
 "metadata": {
  "kernelspec": {
   "display_name": "Python 3.10.4 64-bit",
   "language": "python",
   "name": "python3"
  },
  "language_info": {
   "codemirror_mode": {
    "name": "ipython",
    "version": 3
   },
   "file_extension": ".py",
   "mimetype": "text/x-python",
   "name": "python",
   "nbconvert_exporter": "python",
   "pygments_lexer": "ipython3",
   "version": "3.10.4"
  },
  "orig_nbformat": 4,
  "vscode": {
   "interpreter": {
    "hash": "3ad933181bd8a04b432d3370b9dc3b0662ad032c4dfaa4e4f1596c548f763858"
   }
  }
 },
 "nbformat": 4,
 "nbformat_minor": 2
}
